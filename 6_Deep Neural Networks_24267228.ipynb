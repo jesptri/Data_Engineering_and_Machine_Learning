{
 "cells": [
  {
   "cell_type": "markdown",
   "metadata": {
    "id": "Vk-FbFQdJNz5"
   },
   "source": [
    "Student name: ESPINOUX Jules\n",
    "\n",
    "Student id: 24267228"
   ]
  },
  {
   "cell_type": "markdown",
   "metadata": {
    "deletable": false,
    "editable": false,
    "tags": []
   },
   "source": [
    "# Task: Deep neural networks"
   ]
  },
  {
   "cell_type": "markdown",
   "metadata": {
    "deletable": false,
    "editable": false,
    "tags": []
   },
   "source": [
    "#### Imports"
   ]
  },
  {
   "cell_type": "code",
   "execution_count": 1,
   "metadata": {
    "id": "cEyAXUtxyRAC"
   },
   "outputs": [],
   "source": [
    "import numpy as np\n",
    "import matplotlib.pyplot as plt"
   ]
  },
  {
   "cell_type": "markdown",
   "metadata": {
    "deletable": false,
    "editable": false,
    "tags": []
   },
   "source": [
    "## Get the data an manipulate\n",
    "\n",
    "We're going to use the Fashion MNIST dataset, which we can download from OpenML.\n",
    "\n",
    "Fashion-MNIST is a dataset of Zalando's article images—consisting of a set of 60,000 samples. Each sample is a 28x28 grayscale image, associated with a label from 10 classes.\n",
    "\n",
    "Label IDs:\n",
    "* T-shirt/top - 0\n",
    "* Trouser - 1\n",
    "* Pullover - 2\n",
    "* Dress - 3\n",
    "* Coat - 4\n",
    "* Sandal - 5\n",
    "* Shirt - 6\n",
    "* Sneaker - 7\n",
    "* Bag - 8\n",
    "* Ankle boot - 9\n",
    "\n",
    "We'll load up the Fashion-MNIST dataset. It will take a few seconds.\n"
   ]
  },
  {
   "cell_type": "code",
   "execution_count": 1,
   "metadata": {
    "deletable": false,
    "editable": false,
    "tags": []
   },
   "outputs": [],
   "source": [
    "from sklearn.datasets import fetch_openml\n",
    "from sklearn.model_selection import train_test_split\n",
    "from sklearn.preprocessing import StandardScaler\n",
    "from sklearn.utils import check_random_state\n",
    "\n",
    "# Load data from https://www.openml.org/d/554\n",
    "X, y = fetch_openml(\"Fashion-MNIST\", version=1, return_X_y=True, as_frame=False)\n",
    "\n",
    "text_labels = ['T-shirt/top', 'Trouser', 'Pullover', 'Dress', 'Coat', 'Sandal', 'Shirt', 'Sneaker', 'Bag', 'Ankle boot']"
   ]
  },
  {
   "cell_type": "markdown",
   "metadata": {
    "deletable": false,
    "editable": false,
    "tags": []
   },
   "source": [
    "Let's also visualise a few random samples of this"
   ]
  },
  {
   "cell_type": "code",
   "execution_count": 67,
   "metadata": {
    "deletable": false,
    "editable": false,
    "tags": []
   },
   "outputs": [
    {
     "name": "stdout",
     "output_type": "stream",
     "text": [
      "i= 0 0 [  0   0   0   0   0   0   0   0   0   0   0   0   0   0   0   0   0   0   0   0   0   0   0   0   0   0   0   0   0   0   0   0   0   0   0   0   0   0   0   0   0   0   0   0   0   0   0   0   0   0   0   0   0   0   0   0   0   0   0   0   0   0   0   0   0   0   0   0   0   0   0   0   0   0   0   0   0   0   0\n",
      "   0   0   0   0   0   0   0   0   0   0   0   0   0   0   0   0   0   1   0   0  13  73   0   0   1   4   0   0   0   0   1   1   0   0   0   0   0   0   0   0   0   0   0   0   0   3   0  36 136 127  62  54   0   0   0   1   3   4   0   0   3   0   0   0   0   0   0   0   0   0   0   0   0   6   0 102 204 176 134\n",
      " 144 123  23   0   0   0   0  12  10   0   0   0   0   0   0   0   0   0   0   0   0   0   0   0 155 236 207 178 107 156 161 109  64  23  77 130  72  15   0   0   0   0   0   0   0   0   0   0   0   1   0  69 207 223 218 216 216 163 127 121 122 146 141  88 172  66   0   0   0   0   0   0   0   0   0   1   1   1   0\n",
      " 200 232 232 233 229 223 223 215 213 164 127 123 196 229   0   0   0   0   0   0   0   0   0   0   0   0   0   0 183 225 216 223 228 235 227 224 222 224 221 223 245 173   0   0   0   0   0   0   0   0   0   0   0   0   0   0 193 228 218 213 198 180 212 210 211 213 223 220 243 202   0   0   0   0   0   0   0   0   0\n",
      "   0   1   3   0  12 219 220 212 218 192 169 227 208 218 224 212 226 197 209  52   0   0   0   0   0   0   0   0   0   0   6   0  99 244 222 220 218 203 198 221 215 213 222 220 245 119 167  56   0   0   0   0   0   0   0   0   0   4   0   0  55 236 228 230 228 240 232 213 218 223 234 217 217 209  92   0   0   0   1\n",
      "   4   6   7   2   0   0   0   0   0 237 226 217 223 222 219 222 221 216 223 229 215 218 255  77   0   0   3   0   0   0   0   0   0   0  62 145 204 228 207 213 221 218 208 211 218 224 223 219 215 224 244 159   0   0   0   0   0  18  44  82 107 189 228 220 222 217 226 200 205 211 230 224 234 176 188 250 248 233 238\n",
      " 215   0   0  57 187 208 224 221 224 208 204 214 208 209 200 159 245 193 206 223 255 255 221 234 221 211 220 232 246   0   3 202 228 224 221 211 211 214 205 205 205 220 240  80 150 255 229 221 188 154 191 210 204 209 222 228 225   0  98 233 198 210 222 229 229 234 249 220 194 215 217 241  65  73 106 117 168 219 221\n",
      " 215 217 223 223 224 229  29  75 204 212 204 193 205 211 225 216 185 197 206 198 213 240 195 227 245 239 223 218 212 209 222 220 221 230  67  48 203 183 194 213 197 185 190 194 192 202 214 219 221 220 236 225 216 199 206 186 181 177 172 181 205 206 115   0 122 219 193 179 171 183 196 204 210 213 207 211 210 200 196\n",
      " 194 191 195 191 198 192 176 156 167 177 210  92   0   0  74 189 212 191 175 172 175 181 185 188 189 188 193 198 204 209 210 210 211 188 188 194 192 216 170   0   2   0   0   0  66 200 222 237 239 242 246 243 244 221 220 193 191 179 182 182 181 176 166 168  99  58   0   0   0   0   0   0   0   0   0  40  61  44  72\n",
      "  41  35   0   0   0   0   0   0   0   0   0   0   0   0   0   0   0   0   0   0   0   0   0   0   0   0   0   0   0   0   0   0   0   0   0   0   0   0   0   0   0   0   0   0   0   0   0   0   0   0   0   0   0   0   0   0   0   0   0   0   0   0   0   0   0   0   0   0   0   0   0   0   0]\n",
      "i= 1 22 [  0   0   0   0   0   0   0   1   1   1   0   0  27 103 120 125  59   0   0   1   0   1   0   0   0   0   0   0   0   0   0   0   0   0   0   1   1   0   0  75 178 160 139 140 166  98   0   0   0   1   1   0   0   0   0   0   0   0   0   0   0   0   0   0   2   0  81 175 183 157 150 131 131 164  47   0   2   0   0\n",
      "   0   0   0   0   0   0   0   0   0   0   0   0   1   0   0 156 194 219 149 157 194 167 193 156   6   0   2   0   0   0   0   0   0   0   0   0   0   0   0   0   0   0   0 117 152 111 109 101  93  99 116 160  21   0   4   0   0   0   0   0   0   0   0   0   0   0   0   0   0   0   0 158 176 116 159 119 126 136 144\n",
      " 147  35   0   6   1   0   0   0   0   0   0   0   0   0   0   1   2   0   0  99 130 115 117 133 132 136 201 159 156 115   0   0   2   0   0   0   0   0   0   0   0   0   0   0   4   0  66 149 140 126 124 120 135 118 124 106 133 143 145   0   0   1   0   0   0   0   0   0   0   0   0   0   1   0 123 133 127 153 109\n",
      " 148 104 116 119  86 139 118 132  18   0   3   0   0   0   0   0   0   0   0   0   1   0   0 138 152 152 140  86 139 114 115 139 136 137 132 138  66   0   5   0   0   0   0   0   0   0   0   0   3   0  21 148 120 147 108 139 138 139  94 144 120 123 167 143 111   0   4   0   0   0   0   0   0   0   0   0   4   0  99\n",
      " 127  81 116 115  97 119 131 112 134 112 125 178 129 135   0   0   0   0   0   0   0   0   0   0   0   3   0 120 128 145 143 112 113 143 130 156 140 111 143 163 118 140   7   0   0   0   0   0   0   0   0   0   0   0   0 164 114 121 159 137 109 142  83 118 118  82 139 171 115 139  43   0   0   0   0   0   0   0   0\n",
      "   0   0   0  17 152 137 181 135 111 143 144  93  95 116 115 151 173 155 153  97   0   0   0   0   0   0   0   0   0   0   0  23 166  82 159 141  83  95 118 129 137 156 126 160 172 113 132 121   0   0   0   0   0   0   0   0   0   0   0 106 154  88 170 213 214 226 255 133 224 215 208 223 155 126 159 128   0   0   0\n",
      "   0   0   0   0   0   0   0   0 116 142 132 145 219 218 216 247 117 219 224 218 224 191 132 114 151   0   0   0   0   0   0   0   0   0   0   0 126 148 150 189 216 217 216 243 118 220 225 217 224 211 103 117 163   0   0   0   0   0   0   0   0   0   0   0 152  94  89 195 220 217 214 243 119 221 227 219 220 216 122\n",
      " 172 184  11   0   0   0   0   0   0   0   0   0  15 164  95 123 214 220 217 214 243 120 222 227 220 216 229 131 105 175  23   0   0   0   0   0   0   0   0   0  36 137 133 138 189 229 215 215 242 119 220 225 219 227 253 171 110 181  65   0   0   0   0   0   0   0   0   0  55 165 132 101 219 222 218 217 242 122 222\n",
      " 224 235 200 189 157 101 177  66   0   0   0   0   0   0   0   0   0  76 149 155 140 210 221 219 218 244 122 222 220 236 104  28 215 128 177  70   0   0   0   0   0   0   0   0   0  61 120 128 144 222 221 218 216 221 148 207 219 217 217 236 189  91 196  85   0   0   0   0   0   0   0   0   0  70 133 151 166 193 223\n",
      " 234 236 243 165 226 243 238 233 197 175 131 120  74   0   0   0   0   0   0   0   0   0  63 185 167 139   0   0  47  73  92  49  89  91  79  36   0   3 177 203  69   0   0   0   0   0   0   0   0   0   0 175 162   0   0   0   0   0   0   0   0   0   0   0   0   0 149 159   0   0   0   0   0]\n",
      "i= 2 100 [  0   0   0   0   0   0   0   0   0   1   0   0  18 107 119 103   9   0   0   0   0   0   0   0   0   0   0   0   0   0   0   0   0   0   0   0   0   0   0  99 155 113  61 118 173 117   0   0   3   0   0   0   0   0   0   0   0   0   0   0   0   0   0   0   1   0 110 136   0   0   0   0   0 167 159   0   0   2   0\n",
      "   0   0   0   0   0   0   0   0   0   0   1   0   6   0  72 147   0   0   5   0   2   0   0 174 118   0   5   0   0   0   0   0   0   0   0   0   0   0   1   5   0   0 174   4   0   4   0   0   0   0   0   0 204  44   0   4   0   0   0   0   0   0   0   0   0   0   0   8   0 125 128   0   9   0   0   0   0   0   2\n",
      "   0 107 152   0   6   0   0   0   0   0   0   0   0   0   0   0   0   0 184   9   0   4   0   0   0   0   0   2   0   0 190   0   0   2   0   0   0   0   0   0   0   1   0   2   0  73 158   0   0   0   0   1   0   0   0   0   4   0 157  79   0   3   1   0   0   0   0   0   2   5   1   0   0 157  98   0   2   0   0\n",
      "   1   0   0   0   0   5   0 121 145   0   0   0   0   0   0   0   0   0   0   0   0   0 231  84   0   2   1   1   0   0   0   0   0   1   0  92 223  16   0   7   4   1   0   0   0   0   0   0   0  38 183  81   0   0   0   2   2   1   2   1   0   1   0 120 226  57   0   0   0   0   0   0   0 173 216 193 213 183 164\n",
      " 167  98  16   0   0   0   0   0   0   0   0   0 107 141 111  91  90 108  50   0   0   0 185 221 217 210 202 222 200 206 202 204 109  27  12  17  61 136 180 221 202 225 208 214 223 240 162   0   0   0 183 220 205 200 193 184 189 182 173 194 215 216 205 207 207 195 185 194 194 203 212 183 193 211 153   0   0   0 190\n",
      " 233 203 206 214 216 195 183 176 159 175 189 202 195 186 186 182 186 195 209 235 203 202 215 136   0   0   0 180 228 201 202 188 183 178 192 186 181 181 177 204 217 175 179 184 176 166 169 175 185 152 203 107   0   0   0 167 235 200 207 207 209 207 203 198 189 182 178 186 189 178 192 197 195 192 185 184 205 187 255\n",
      "  61   0   0   0 152 250 208 214 209 202 200 202 205 204 200 192 198 204 195 205 206 198 199 203 214 207 179 249  55   0   0   0 126 255 211 215 210 206 203 203 203 206 204 199 206 207 200 206 201 199 202 208 215 195 174 211  15   0   0   0 107 255 212 211 210 211 208 206 206 207 208 208 217 214 205 206 204 208 211\n",
      " 211 220 197 182 225   0   0   0   0  63 232 211 216 212 214 212 212 214 212 211 212 223 219 210 214 213 212 211 209 217 208 168 190   0   0   0   0  14 255 218 221 215 218 218 217 215 213 211 215 228 220 216 222 217 217 216 218 212 213 189 143   0   0   0   0   0 230 227 214 217 218 216 217 217 214 216 222 226 218\n",
      " 218 220 219 218 217 218 217 215 216 113   0   0   0   0   0 177 233 216 223 222 213 213 215 212 220 226 221 220 221 218 222 220 220 221 217 212 219  52   0   0   0   0   0  10 223 222 220 211 213 215 220 222 226 226 221 223 222 222 221 218 220 219 220 223 174   0   0   0   0   0   0   0 126 241 208 210 214 214 216\n",
      " 216 220 220 214 213 212 212 210 215 217 218 215 236  42   0   1   0   0   0   0   0   0 188 237 230 233 255 255 255 255 255 255 255 255 255 255 255 231 229 239 161   0   0   0   0   0   0   0   0   0   0  63  95 108 105 100 103 104 105 102 100  98  97  96  90  80  83  60   0   0   0   0   0]\n",
      "i= 3 555 [  0   0   1   0   0   0   1   0   0   0  36 137  59  43  24  24  44 107 102   0   0   0   2   0   0   1   0   0   0   0   1   0   0   1   1   0 145 151  57 240 188 194 211 204 205 189 243  59   4   0   0   1   0   1   0   0   0   0   0   0   0   4   0  37 243  72   0 208 210 178 162 149 161 199 138  56 200 207   6\n",
      "   0   2   0   0   0   0   0   0   0   3   0   0 133 205 175 179 168 192 192 162 156 185 215 175 176 169 217  34   0   8   4   1   0   0   0   0   2   0   7 145 182 205 218 242 225 221 230 119 160 221 216 255 235 231 227  60   0   2   1   1   0   0   0   1   0   0 182 176 136 129 141 190 202 197 204 147 188 186 179\n",
      " 166 157 153 162 204  89   0   0   0   0   0   0   3   0  89 206 159 151 179 141 128 137 133 156 160 151 134 147 143 153 145 168 166 230  24   0   1   0   0   0   3   0 176 199 198 156 161 171 148 149 158 155 143 157 161 155 155 167 160 196 180 217 135   0   1   0   0   0   0   4 177 196 209 170 157 160 149 155 154\n",
      " 167  96 157 155 151 166 158 160 208 211 206 180   0   4   0   0   0   0  45 200 182 215 191 160 165 146 147 155 172  97 169 167 177 164 168 179 225 213 194 223   0   0   0   0   0   0  99 198 180 199 192 161 182 153 157 157 168 107 177 169 164 161 168 192 229 213 195 209  23   0   0   0   0   0 164 184 188 202 217\n",
      " 196 171 166 164 165 172 138 178 155 151 188 189 205 227 222 198 201  62   0   0   0   0   0 200 172 194 212 216 195 174 180 166 186 174 135 188 162 194 204 205 207 223 229 195 196 102   0   0   0   0   1 211 169 191 218 210 204 196 172 200 179 172 116 186 180 190 197 208 202 236 222 191 206 155   0   0   0   0   8\n",
      " 217 167 186 219 212 205 195 204 176 177 172 146 177 174 174 188 197 192 233 226 190 202 178   0   0   0   0  29 219 166 178 222 217 197 200 177 160 184 186 164 195 166 179 186 191 201 237 223 189 196 204   0   0   0   0  52 221 167 176 227 222 198 204 177 191 197 177 158 209 188 168 192 194 199 236 213 185 195 217\n",
      "   0   0   0   0  78 220 169 174 230 221 200 198 199 209 180 178 150 188 211 192 199 195 190 231 215 181 196 220   0   0   0   0  94 216 170 167 225 226 198 209 204 182 180 177 166 187 187 207 200 200 199 232 216 179 195 222   0   0   0   0 103 213 172 169 223 237 204 209 202 189 188 190 161 199 190 189 200 204 208\n",
      " 233 212 180 194 226   0   0   0   0 113 209 169 172 221 235 199 209 205 192 199 175 158 198 197 209 210 202 202 233 217 189 202 230   0   0   0   0 117 202 174 190 229 232 204 210 212 200 202 179 145 196 172 190 212 202 201 233 216 201 212 229   0   0   0   0 104 221 160 198 232 226 198 212 211 204 192 175 156 209\n",
      " 200 194 197 209 207 227 213 207 212 235   0   0   0   0  63 221 184 199 200 207 212 208 201 189 198 194 156 201 190 184 197 200 213 230 225 205 220 197   0   0   0   0  18 215 218 223 169 162 215 210 202 205 188 181 166 194 198 191 201 213 215 180 235 226 231 138   0   0   0   0  13 201 168 198 128 198 211 207 205\n",
      " 209 201 174 147 212 180 212 213 210 215 148 167 171 164  58   0   0   0   0   0   0   0   0   0 237 237 225 217 200 209 192 164 207 204 205 210 220 249 149   0   0   0   0   5   0   0   0   0   0   3   1   0  28 103 144 170 169 171 151 153 186 177 174 158 129 120  48   0   4   2   3   0   0]\n",
      "i= 4 666 [  0   0   0   0   0   0   0   0   0   0   0   0   0   0   0   0   0   0   0   0   0   0   0   0   0   0   0   0   0   0   0   0   0   0   0   0   0   0   0   0   0   0   0   0   0   0   0   0   0   0   0   0   0   0   0   0   0   0   0   0   0   0   0   0   0   0   0   0   0   0   0   0   0   0   0   0   0   0   0\n",
      "   0   0   0   0   0   0   0   0   0   0   0   0   0   0   0   0   0   0   0   0   0   0   0   0   0   0   0   0   0   0   0   0   0   0   0   0   0   0   0   0   0   0   0   0   0   0   0   0   0   0   0   0   0   0   0   0   0   0   0   0   0   0   0   0   0   0   0   0   0   0   0   0   0   0   0   0   0   0   0\n",
      "   0   0   0   0   0   0   0   0   0   0   0   0   0   0   0   0   0   0   0   0   0   0   0   0   0   0   0   0   0   0   0   0   0   0   0   0   0   0   0   0   0   0   0   0   0   0   0   0   0   0   0   0   0   0   0   0   0   0   0   0   0   0   0   0   0   0   0   0   0   0   0   0   0   0   0   0   0   2   0\n",
      "   0   0  25  51   0   5   0   0   0   0   0   0   0   0   0   0   0   0   0   0   0   0   0   0   0   0   0   2  72  74 115 175   7   0   7   5   0   2   0 146 110   7   0   0   0   0   0   0   0   0   0   0   0   0  54  95  92 123  77 123  72  20   0   0   0   0   0 255 136  51   0   0   0   0   0   0   0   2   0\n",
      "   2  38  79  97 118  90 105 121  95 115 128  59  48   5   5  64 118 103  82   0   0   0   0   0   0   5   2   0  61 121 108  92 115 162 167 162 175 133 105 113 144 133 110 133 144 146 141   2   2   0   0   0   0   0   5  36 113 103  95 118 128 126 110 108 151 182 195 167 139 136 136 115 126 108 123   2   0   0   2\n",
      "   0   7  33  51  85 105 123 128  92  90  79 108 133 103 121 162 170 193 206 151 126 123 123 118   5   5  33  48  59  72  74  82  82 115 123 121 118 139 115  90 133 139 136 149 164 180 170 157 170 151 139 131   2  61 136 113  90  95  92 100 108 103 103 113 126 133 164 170 146 157 149 115  87  72  82 110 123 128 131\n",
      " 100   0  41  79 118 159 149 139 136 131 113 110 113 118 113  79  85  43  15  25  36  38  51  59  41  41  41  36  54   0  46  66  30  28  28  23  28  25  23  28  30  36  38  54  56  66  92 100  97  92  82  72  77  66  69  74  85  15   0  20  54  69  72  72  79  82  79  82  79  82  82  72  82  87  74  72  74  64  54\n",
      "  54  56  51  56  54  51   7   0   0   0   0   0   0   0   0   0   0   0   0   0   0   0   0   0   0   0   0   0   0   0   0   0   0   0   0   0   0   0   0   0   0   0   0   0   0   0   0   0   0   0   0   0   0   0   0   0   0   0   0   0   0   0   0   0   0   0   0   0   0   0   0   0   0   0   0   0   0   0   0\n",
      "   0   0   0   0   0   0   0   0   0   0   0   0   0   0   0   0   0   0   0   0   0   0   0   0   0   0   0   0   0   0   0   0   0   0   0   0   0   0   0   0   0   0   0   0   0   0   0   0   0   0   0   0   0   0   0   0   0   0   0   0   0   0   0   0   0   0   0   0   0   0   0   0   0   0   0   0   0   0   0\n",
      "   0   0   0   0   0   0   0   0   0   0   0   0   0   0   0   0   0   0   0   0   0   0   0   0   0   0   0   0   0   0   0   0   0   0   0   0   0   0   0   0   0   0   0   0   0   0   0   0   0   0   0   0   0   0   0   0   0   0   0   0   0   0   0   0   0   0   0   0   0   0   0   0   0]\n",
      "i= 5 123 [  0   0   0   0   0   0   0   0   0  17  39 135 110  66  66  92 159  92   1   0   0   0   0   0   0   0   0   0   0   0   0   0   0   0  17  67  92  93  76  88 170 192 180 194 143  65  83  91  60  11   0   0   0   0   0   0   0   0   0   0   0  20 101  83  69  58  65  50  28  33  38  24  22  46  52  58  78  93  12\n",
      "   0   0   0   0   0   0   0   0   0   0  82  81  55  66  64  62  66  64  57  53  55  61  55  55  54  49  60  60   0   0   0   0   0   0   0   0   0  10 101  75  67  61  63  67  64  63  55  49  36  40  52  54  53  53  55  77   6   0   0   0   0   0   0   0   0  32 118  90  64  65  65  64  60  50  27  56 101  31  36\n",
      "  49  54  48  68  83  23   0   0   0   0   0   0   0   0  52  88 118  66  72  65  54  37  46  36 136 254 196  53  36  52  53 110  64  44   0   0   0   0   0   0   0   0  72  73 110  83  72  66  45 116 243 213 225 124 202 180  31  43  73  98  56  54   0   0   0   0   0   0   0   0  85  78  97  68  70  59 120 253 179\n",
      " 255  78 155  48 250  61  38  60  61  68  56   0   0   0   0   0   0   0   0  85  67 137  91  57  59 217 166 130 116  21  77 153 225  67  38  59  76  61  63   0   0   0   0   0   0   0   0  82  56 123 115  47  73 255  88 117  69 149  78 181 227  51  39  59  83  63  68   0   0   0   0   0   0   0   0  83  63 106 102\n",
      "  49  68 255 224   0 212 223 146 175 198  34  37  67  86  59  80   0   0   0   0   0   0   0   0  86  71  93  98  57  48 245 179 153 240 195 237 222  73  43  41  83  98  79  80   0   0   0   0   0   0   0   0  79  85  92  88  66  48 126 214 242 235 121 150  62  39  60  37 104 113 103  63  10   0   0   0   0   0   0\n",
      "   4  77  89 107  81  66  66  48 122 200 255  67  27  48  58  62  43  70 112 105  56  17   0   0   0   0   0   0  21  77  72 127  86  65  72  57  40  65 100  67  52  68  63  66  40  89 125  86  57  22   0   0   0   0   0   0  28  77  62 123 112  57  68  70  61  48  49  61  61  68  68  64  34 119 138  66  62  24   0\n",
      "   0   0   0   0   0  27  76  56 119 119  52  66  67  66  68  68  66  64  69  67  66  34 120 130  56  68  24   0   0   0   0   0   0  30  71  55 119 105  49  69  66  65  64  65  68  63  64  67  65  39 101 120  53  69  27   0   0   0   0   0   0  34  68  53 121  89  51  67  66  65  64  68  68  63  63  68  64  47  89\n",
      " 117  53  67  32   0   0   0   0   0   0  32  66  56 111  62  56  65  64  65  64  70  68  64  65  65  65  57  63 109  58  66  35   0   0   0   0   0   0  33  64  65  94  38  67  66  64  65  63  69  68  64  64  64  66  66  38  92  63  63  37   0   0   0   0   0   0  40  62  68  78  32  72  64  64  65  64  69  68  63\n",
      "  66  65  65  73  33  80  65  60  38   0   0   0   0   0   0  47  58  71  66  24  71  61  63  62  61  69  70  62  63  67  61  69  22  72  66  60  43   0   0   0   0   0   0  45  55  80  44  35  87  63  69  66  62  64  69  65  61  69  65  77  21  67  70  59  45   0   0   0   0   0   0  44  56  87  49  15 101  85  90\n",
      "  90  90  90  92  88  86  88  83 101  25  71  80  56  41   0   0   0   0   0   0  40  58  87  68   0  18  14  18  19  21  21  20  16  19  19  16  19   0  69  81  63  39   0   0   0   0   0   0  22  50  60  49   0   0   0   0   0   0   0   0   0   0   0   0   0   0  49  69  47  24   0   0   0]\n",
      "i= 6 10000 [  0   0   0   0   0   0   0   0   0   0   0   0   0   0   0   0   0   0   0   0   0   0   0   0   0   0   0   0   0   0   0   0   0   0   0   0   0   0   0   0   0   0   0   0   0   0   0   0   0   0   0   0   0   0   0   0   0   0   0   0   0   0   0   0   0   0   0   0   0   0   0   0   0   0   0   0   0   0   0\n",
      "   0   0   0   0   0   0   0   0   0   0   0   0   0   0   0   0   0   0   0   0   0   0   0   0   0   0   0   0   0   0   0   0   0   0   0   0   0   0   0   0   0   0   0   0   0   0   0   0   0   0   0   0   0   0   0   0   0   0   0   0   0   0   0   0  55  89 161 117  74  92  60   0   0   0   0   0   0   0   0\n",
      "   0   0   0   0   0   0   9  19   0   0   0  77 143 239 231 175 117 139 157 218 212 173 120 174 206 146 163 154 170 150 127 158 201 224 198 132 113   0   0 142 147  79   0  84 223 135   0   0  33 144  89 202  51   0   0   0 142 179 205 115  94  62  28 141 113   0   0 152 210  43   0  57 223 151   0   0   0  62 123\n",
      " 192   0   3   0  76 109 107 142 255 166   0  11 227 149   0   0  29   0   0   0  57 209 202   3  28  94  90   8   0   1   2 121  46 173   0   0  46   0   0   0 166 154   0   0  29  23  14   0  90 229 117 159 104 131  45   0  29 244 147 255 129  39 124   6  10   2   0   0 202 151   0   0 192 209 195 179 200 187 190\n",
      " 192 199 200 215 225 225 217 192 187 206 210 222 219 216 216 224 186 207 135   0   0 183 217 191 170 203 207 210 204 212 197 198 200 196 200 197 210 224 207 208 213 221 217 221 215 210 149   0   0  13 159 235 192 178 115 163 192 164 255 225 226 209 224 226 224 160 238 158 116  93 112 112 114 183 109   0   0   0 132\n",
      " 225  14  15   0   0 148  73 170 237 225 244 252 242  53  24 142 127 140   0   2   0   0  34   0   0   0   0 134 253   0   0  16 130  89 255 116  45  87 177 167  63 199 255  44 230 182  35  42  33  31   8   0   0   0   5 179 224   0  51 102 125  89 226 120 151 164 149  17  28  69 234 125 236  70   0  99  97   0   7\n",
      " 114   0   0 130 203 248   4 235 249 136   0  89 104 162 156 202  18   0  15   0 139 212  98  76 133 161  14 142 249   0   0  52  63 142 152 219 218 164  93 214 192 166 171 139 109  93   0   0  91 157 125 242 118 203 186 218 189   0   0 255 194  70 216 213 166   0 136 130 114  69 120 150 201 233 226   5  15  20  37\n",
      " 239 195 150 196 224 181   0   0 192 131 185 217 206 191   0 174  98   0   2  54 211 230 225 193   2   3   1   0 228 180 166 185 224 183   0   0 134 216 219 199 220 255 150  31  59  53  45  23  85 220 176  92 179 125  57   0 182 233 217 219 231 238   0   0  67 207  38   0  51   0  16   7  17  35   8  36  57   0   0\n",
      "  95 112 108  69   0   0 117 113   3  58  32   0   0   0   0   0   0   0   0   0   0   0   0   0   0   0   0   0   0   0   0   0   0   0   0   0   0   0   0   0   0   0   0   0   0   0   0   0   0   0   0   0   0   0   0   0   0   0   0   0   0   0   0   0   0   0   0   0   0   0   0   0   0   0   0   0   0   0   0\n",
      "   0   0   0   0   0   0   0   0   0   0   0   0   0   0   0   0   0   0   0   0   0   0   0   0   0   0   0   0   0   0   0   0   0   0   0   0   0   0   0   0   0   0   0   0   0   0   0   0   0   0   0   0   0   0   0   0   0   0   0   0   0   0   0   0   0   0   0   0   0   0   0   0   0]\n",
      "i= 7 55005 [  0   0   0   0   0   0   0   0   0   0   0   0   0   0   0   0   0   0   0   0   0   0   0   0   0   0   0   0   0   0   0   0   0   0   0   0   0   0   0   0   0   0   0   0   0   0   0   0   0   0   0   0   0   0   0   0   0   0   0   0   0   0   0   0   0   0   0   0   0   0   0   0   0   0   0   0   0   0   0\n",
      "   0   0   0   0   0   0   0   0   0 203 190 189 185 189 183 184 186 184 178 180 182 182 185 186 185 186 186 186 187 191 194 187   0   0   0   0   3 230 221 220 227 227 224 224 223 219 212 214 215 214 220 225 227 229 229 226 231 220 225 225  21  68 183  69 153 206 203 203 203 195 192 195 193 189 192 190 188 185 185\n",
      " 189 192 193 190 193 190 196 191 218  80 178 218 197 196 200 202 203 203 197 197 202 201 195 199 199 197 196 196 199 202 201 195 205 198 205 194 217  96 216 237 210 146 190 167 184 178 186 188 186 184 187 189 183 192 197 196 199 201 201 199 200 200 195 190 214  86 223 226 232 194 183 177 188 182 192 194 192 189 193\n",
      " 194 190 198 201 198 197 200 200 198 201 206 200 190 210  66 232 218 243 196 173 183 194 193 198 200 198 197 200 199 198 201 201 198 198 200 200 197 197 199 199 189 203  46 228 199 247 171 176 190 199 203 200 201 200 200 201 199 201 199 196 197 200 200 199 197 199 197 200 193 204  37 223 205 253 167 186 196 200 202\n",
      " 198 201 201 201 202 202 204 200 196 198 201 200 200 198 198 192 197 193 205  32 215 203 255 173 187 202 195 196 200 198 198 198 198 202 199 198 197 201 202 200 202 201 196 190 200 191 203  36 209 204 253 177 186 201 187 191 200 197 196 195 195 199 196 194 194 196 196 195 195 191 185 187 197 191 202  37 205 205 248\n",
      " 187 188 203 188 189 199 197 197 195 195 196 191 189 191 192 191 193 191 180 183 193 201 199 207  36 209 203 238 196 186 200 196 191 192 191 193 194 195 195 188 186 191 193 194 196 192 175 178 190 197 201 209  35 215 212 228 199 183 199 197 192 186 186 190 191 193 195 190 187 189 187 186 190 184 171 170 178 190 194\n",
      " 206  34 212 222 219 181 189 194 187 189 186 187 189 191 192 192 192 190 187 185 187 189 185 179 178 181 196 192 206  34 156 239 221 177 183 188 183 187 189 189 190 192 193 191 191 192 193 193 194 194 190 184 184 184 192 189 203  35  46 248 232 206 170 194 190 188 190 190 192 192 193 194 194 197 198 197 196 195 192\n",
      " 188 187 185 192 190 205  34   0 181 242 173 198 196 190 190 193 192 193 194 194 195 195 197 198 198 198 195 192 190 190 189 196 197 212  33   0  19 210 160 191 190 188 187 191 192 192 191 189 192 193 190 192 192 190 190 187 181 185 184 189 192 207  36   0   0  74 201 177 180 184 188 187 190 188 185 184 185 185 185\n",
      " 179 178 183 186 186 183 184 176 179 183 201  36   0   0   0 139 192 171 177 179 182 180 179 177 172 156 139 145 131 147 177 175 176 176 176 173 166 165 193  46   0   6   0  77 198 190 195 192 191 193 193 191 218 224 219 224 222 216 214 213 213 212 211 193 187 191 165   0   0   1   0   0  58  66  62  61  61  63  65\n",
      "  64  64  66  64  65  71  80  83  86  89  92  96  96 101 111  37   0   0   0   0   0   0   0   0   0   0   0   0   0   0   0   0   0   0   0   0   0   0   0   0   0   0   0   0   0   0   0   0   0   0   0   0   0   0   0   0   0   0   0   0   0   0   0   0   0   0   0   0   0   0   0   0   0]\n"
     ]
    },
    {
     "data": {
      "image/png": "[encoded data removed]",
      "text/plain": [
       "<Figure size 2200x1000 with 8 Axes>"
      ]
     },
     "metadata": {},
     "output_type": "display_data"
    }
   ],
   "source": [
    "import numpy as np\n",
    "import matplotlib.pyplot as plt\n",
    "\n",
    "# You can put between 0 to 59999 here\n",
    "index = (0, 22, 100, 555, 666, 123, 10000, 55005)\n",
    "\n",
    "# Set number of characters per row when printing\n",
    "np.set_printoptions(linewidth=320)\n",
    "\n",
    "# Visualize the image\n",
    "\n",
    "fig, ax = plt.subplots(2, 4, figsize=(22, 10))\n",
    "fig.subplots_adjust(wspace=0.3)\n",
    "ax = ax.flatten()\n",
    "\n",
    "for i in range(len(index)):\n",
    "    print(\"i= \" + str(i) + \" \" + str(index[i]) + \" \" + str(X[index[i]]))\n",
    "    ax[i].imshow(np.reshape(X[index[i]], (-1, 28)), cmap='gray', vmin=0, vmax=255)\n",
    "    ax[i].axis('off')  # clear x-axis and y-axis\n",
    "    ax[i].set_title(text_labels[int(y[index[i]])])\n",
    "\n",
    "plt.show()"
   ]
  },
  {
   "cell_type": "markdown",
   "metadata": {
    "deletable": false,
    "editable": false,
    "tags": []
   },
   "source": [
    "### Data manipulation\n",
    "\n",
    "Firstly, do a train/test split. Keep 20% of the data for test. Fix the `random_state` so that the test is completely repeatible.\n",
    "\n",
    "Then use the `StandardScaler` function from `sklearn.preprocessing`, as the multi-layer perceptron can be quite sensitive to data scaling."
   ]
  },
  {
   "cell_type": "markdown",
   "metadata": {
    "deletable": false,
    "editable": false,
    "tags": []
   },
   "source": [
    "<span style=\"color:red\">Insert your code below</span>."
   ]
  },
  {
   "cell_type": "code",
   "execution_count": 68,
   "metadata": {
    "id": "spRd6Bbcxe5u"
   },
   "outputs": [],
   "source": [
    "from sklearn.preprocessing import StandardScaler\n",
    "from sklearn.model_selection import train_test_split\n",
    "\n",
    "############################\n",
    "\n",
    "\n",
    "X_train, X_test, y_train, y_test = train_test_split(X, y, test_size=0.2, random_state=42)\n",
    "\n",
    "scaler = StandardScaler()\n",
    "scaler.fit(X_train)\n",
    "X_train_transformed = scaler.transform(X_train)\n",
    "X_test_transformed = scaler.transform(X_test)\n",
    " \n"
   ]
  },
  {
   "cell_type": "markdown",
   "metadata": {
    "deletable": false,
    "editable": false,
    "tags": []
   },
   "source": [
    "## Task 1: Train a Perceptron\n",
    "\n",
    "1. A single artifical neuron is a Perceptron, so use `sklearn`'s implementation of the Perceptron, and train it.\n",
    "2. Calculate and print the accuracy\n",
    "3. Discuss the result, does it seem good or bad?\n",
    "4. Find an example where the classification is incorrect, and plot it. Discuss (e.g. does it kind of look like the digit that was predicted?)\n",
    "5. Multiclass perceptron? We learned that the Percpetron is a binary classifier. Give a brief description of how multi-class perceptron might work. Of course, use the internet, but give it to me in your own words, and use a diagram as appropriate."
   ]
  },
  {
   "cell_type": "markdown",
   "metadata": {
    "deletable": false,
    "editable": false,
    "tags": []
   },
   "source": [
    "<span style=\"color:red\">Insert your code below</span>."
   ]
  },
  {
   "cell_type": "code",
   "execution_count": 69,
   "metadata": {},
   "outputs": [],
   "source": [
    "from sklearn.linear_model import Perceptron as Perceptron \n",
    "\n",
    "##################\n",
    "\n",
    "perceptron = Perceptron()\n",
    "perceptron.fit(X_train_transformed, y_train)\n",
    "y_predicted = perceptron.predict(X_test_transformed)\n",
    "\n"
   ]
  },
  {
   "cell_type": "code",
   "execution_count": null,
   "metadata": {},
   "outputs": [
    {
     "name": "stdout",
     "output_type": "stream",
     "text": [
      "0.8115714285714286\n"
     ]
    }
   ],
   "source": [
    "from sklearn.metrics import accuracy_score\n",
    "import matplotlib.pyplot as plt\n",
    "\n",
    "##################\n",
    "\n",
    "score = accuracy_score(y_test, y_predicted)\n",
    "\n",
    "print(score)\n"
   ]
  },
  {
   "cell_type": "markdown",
   "metadata": {
    "deletable": false,
    "editable": false,
    "tags": []
   },
   "source": [
    "<font color='red'>Enter your text here.</font>"
   ]
  },
  {
   "cell_type": "markdown",
   "metadata": {
    "deletable": false,
    "editable": false,
    "tags": []
   },
   "source": [
    "The accuracy is quite good for a perceptron !"
   ]
  },
  {
   "cell_type": "code",
   "execution_count": null,
   "metadata": {},
   "outputs": [
    {
     "name": "stdout",
     "output_type": "stream",
     "text": [
      "['4' '7' '0' '7' '9' '3' '7' '2' '5' '4' '3' '4' '4' '6' '6']\n",
      "['2' '7' '0' '7' '9' '2' '7' '6' '5' '4' '3' '6' '2' '0' '6']\n"
     ]
    },
    {
     "data": {
      "text/plain": [
       "<matplotlib.image.AxesImage at 0x1cedb602a80>"
      ]
     },
     "execution_count": 121,
     "metadata": {},
     "output_type": "execute_result"
    },
    {
     "data": {
      "image/png": "[encoded data removed]",
      "text/plain": [
       "<Figure size 640x480 with 1 Axes>"
      ]
     },
     "metadata": {},
     "output_type": "display_data"
    },
    {
     "data": {
      "image/png": "[encoded data removed]",
      "text/plain": [
       "<Figure size 640x480 with 1 Axes>"
      ]
     },
     "metadata": {},
     "output_type": "display_data"
    }
   ],
   "source": [
    "#### 4 ####\n",
    "\n",
    "print(y_predicted[0:15])\n",
    "print(y_test[0:15])\n",
    "\n",
    "plt.figure()\n",
    "plt.imshow(np.reshape(X_test[0], (-1, 28)), cmap='gray', vmin=0, vmax=255)\n",
    "plt.figure()\n",
    "plt.imshow(np.reshape(X_test[9], (-1, 28)), cmap='gray', vmin=0, vmax=255)\n"
   ]
  },
  {
   "cell_type": "markdown",
   "metadata": {},
   "source": [
    "Both items are similar which may cause the incorrect classification."
   ]
  },
  {
   "cell_type": "markdown",
   "metadata": {
    "deletable": false,
    "editable": false,
    "tags": []
   },
   "source": [
    "## Task 2: Train a multi-layer Perceptron with one hidden layer (of width 20)\n",
    "\n",
    "Let's try going wide first\n",
    "\n",
    "* Set the regularizing parameter to 0.1 (alpha = 0.1). We have looked at regularisation before in the context of machine learning algorithms. It is important, but we won't investigate it further here. We'll leave this fixed.\n",
    "* Set verbose = 1, so we can look at what is happening on each epoch (iteration)\n",
    "* Set random_state=1 (or some constant), so the test is repeatible\n",
    "* For the moment, set hidden_layer_sizes to (20,). \n",
    "\n",
    "This tuple then sets the number of hidden layers. The number of values in the tuple is the number of layers, and the number of each value is the number of nodes in that layer. So a tuple of (50,30,10) would be one layer with 50 nodes, connect to a second hidden layer with 30 nodes and a final hidden layer with 10 nodes). But for the moment, just go for one hidden layer with 20 nodes.\n",
    "\n",
    "Also print the __training and accuracy score__ of our current network (remember the `accuracy_score` function from `sklearn.metrics`?). The score on the test dataset should not be too bad at this point. That's quite impressive for a first stab at a neural network. Let's see if we can do better, though!"
   ]
  },
  {
   "cell_type": "markdown",
   "metadata": {
    "deletable": false,
    "editable": false,
    "tags": []
   },
   "source": [
    "<span style=\"color:red\">Insert your code below</span>."
   ]
  },
  {
   "cell_type": "code",
   "execution_count": 136,
   "metadata": {
    "colab": {
     "base_uri": "https://localhost:8080/"
    },
    "id": "w8qHytso3HJ5",
    "outputId": "3bee03bd-3596-4acd-9863-45134b5c23ad"
   },
   "outputs": [
    {
     "name": "stdout",
     "output_type": "stream",
     "text": [
      "Iteration 1, loss = 0.63982681\n",
      "Iteration 2, loss = 0.43309333\n",
      "Iteration 3, loss = 0.39753066\n",
      "Iteration 4, loss = 0.37727725\n",
      "Iteration 5, loss = 0.36473861\n",
      "Iteration 6, loss = 0.35406314\n",
      "Iteration 7, loss = 0.34652351\n",
      "Iteration 8, loss = 0.34180317\n",
      "Iteration 9, loss = 0.33441681\n",
      "Iteration 10, loss = 0.33036474\n",
      "Iteration 11, loss = 0.32661593\n",
      "Iteration 12, loss = 0.32187934\n",
      "Iteration 13, loss = 0.31980492\n",
      "Iteration 14, loss = 0.31658098\n",
      "Iteration 15, loss = 0.31249897\n",
      "Iteration 16, loss = 0.31143816\n",
      "Iteration 17, loss = 0.30885581\n",
      "Iteration 18, loss = 0.30687183\n",
      "Iteration 19, loss = 0.30333655\n",
      "Iteration 20, loss = 0.30351777\n",
      "Iteration 21, loss = 0.30051948\n",
      "Iteration 22, loss = 0.29833242\n",
      "Iteration 23, loss = 0.29844625\n",
      "Iteration 24, loss = 0.29638867\n",
      "Iteration 25, loss = 0.29463795\n",
      "Iteration 26, loss = 0.29338758\n",
      "Iteration 27, loss = 0.29279986\n",
      "Iteration 28, loss = 0.29166540\n",
      "Iteration 29, loss = 0.29030085\n",
      "Iteration 30, loss = 0.28960588\n",
      "Iteration 31, loss = 0.28718995\n",
      "Iteration 32, loss = 0.28703826\n",
      "Iteration 33, loss = 0.28677977\n",
      "Iteration 34, loss = 0.28623041\n",
      "Iteration 35, loss = 0.28510713\n",
      "Iteration 36, loss = 0.28256238\n",
      "Iteration 37, loss = 0.28295484\n",
      "Iteration 38, loss = 0.28280639\n",
      "Iteration 39, loss = 0.28004400\n",
      "Iteration 40, loss = 0.28116436\n",
      "Iteration 41, loss = 0.28037848\n",
      "Iteration 42, loss = 0.27941299\n",
      "Iteration 43, loss = 0.27852275\n",
      "Iteration 44, loss = 0.27803483\n",
      "Iteration 45, loss = 0.27787514\n",
      "Iteration 46, loss = 0.27836380\n",
      "Iteration 47, loss = 0.27694203\n",
      "Iteration 48, loss = 0.27486846\n",
      "Iteration 49, loss = 0.27714710\n",
      "Iteration 50, loss = 0.27410591\n",
      "Iteration 51, loss = 0.27481560\n",
      "Iteration 52, loss = 0.27343783\n",
      "Iteration 53, loss = 0.27296930\n",
      "Iteration 54, loss = 0.27486610\n",
      "Iteration 55, loss = 0.27330188\n",
      "Iteration 56, loss = 0.27366906\n",
      "Iteration 57, loss = 0.27162210\n",
      "Iteration 58, loss = 0.27148070\n",
      "Iteration 59, loss = 0.27078648\n",
      "Iteration 60, loss = 0.26955839\n",
      "Iteration 61, loss = 0.27037237\n",
      "Iteration 62, loss = 0.26929967\n",
      "Iteration 63, loss = 0.26934755\n",
      "Iteration 64, loss = 0.26774214\n",
      "Iteration 65, loss = 0.26743493\n",
      "Iteration 66, loss = 0.26884269\n",
      "Iteration 67, loss = 0.26893203\n",
      "Iteration 68, loss = 0.26709094\n",
      "Iteration 69, loss = 0.26765314\n",
      "Iteration 70, loss = 0.26509577\n",
      "Iteration 71, loss = 0.26713401\n",
      "Iteration 72, loss = 0.26749546\n",
      "Iteration 73, loss = 0.26779844\n",
      "Iteration 74, loss = 0.26535156\n",
      "Iteration 75, loss = 0.26628888\n",
      "Iteration 76, loss = 0.26655342\n",
      "Iteration 77, loss = 0.26665470\n",
      "Iteration 78, loss = 0.26465656\n",
      "Iteration 79, loss = 0.26503433\n",
      "Iteration 80, loss = 0.26760310\n",
      "Iteration 81, loss = 0.26339757\n",
      "Iteration 82, loss = 0.26382247\n",
      "Iteration 83, loss = 0.26212454\n",
      "Iteration 84, loss = 0.26625570\n",
      "Iteration 85, loss = 0.26267599\n",
      "Iteration 86, loss = 0.26236563\n",
      "Iteration 87, loss = 0.26367714\n",
      "Iteration 88, loss = 0.26279815\n",
      "Iteration 89, loss = 0.26423591\n",
      "Iteration 90, loss = 0.26359547\n",
      "Iteration 91, loss = 0.26283353\n",
      "Iteration 92, loss = 0.26346551\n",
      "Iteration 93, loss = 0.26199944\n",
      "Iteration 94, loss = 0.26266719\n",
      "Iteration 95, loss = 0.26243927\n",
      "Iteration 96, loss = 0.26081529\n",
      "Iteration 97, loss = 0.26089434\n",
      "Iteration 98, loss = 0.26108858\n",
      "Iteration 99, loss = 0.26033869\n",
      "Iteration 100, loss = 0.26403413\n",
      "Iteration 101, loss = 0.26407658\n",
      "Iteration 102, loss = 0.25995017\n",
      "Iteration 103, loss = 0.26263929\n",
      "Iteration 104, loss = 0.26083083\n",
      "Iteration 105, loss = 0.26075253\n",
      "Iteration 106, loss = 0.25929075\n",
      "Iteration 107, loss = 0.25923463\n",
      "Iteration 108, loss = 0.26113324\n",
      "Iteration 109, loss = 0.26158991\n",
      "Iteration 110, loss = 0.25913311\n",
      "Iteration 111, loss = 0.25934970\n",
      "Iteration 112, loss = 0.26087802\n",
      "Iteration 113, loss = 0.26109181\n",
      "Iteration 114, loss = 0.26083090\n",
      "Iteration 115, loss = 0.25917582\n",
      "Iteration 116, loss = 0.25915118\n",
      "Iteration 117, loss = 0.25756556\n",
      "Iteration 118, loss = 0.25800711\n",
      "Iteration 119, loss = 0.25778120\n",
      "Iteration 120, loss = 0.25974386\n",
      "Iteration 121, loss = 0.25721523\n",
      "Iteration 122, loss = 0.25877396\n",
      "Iteration 123, loss = 0.25816681\n",
      "Iteration 124, loss = 0.25794758\n",
      "Iteration 125, loss = 0.25826655\n",
      "Iteration 126, loss = 0.25864911\n",
      "Iteration 127, loss = 0.25660488\n",
      "Iteration 128, loss = 0.25772769\n",
      "Iteration 129, loss = 0.25646366\n",
      "Iteration 130, loss = 0.25653207\n",
      "Iteration 131, loss = 0.26005934\n",
      "Iteration 132, loss = 0.25796369\n",
      "Iteration 133, loss = 0.25508773\n",
      "Iteration 134, loss = 0.25720293\n",
      "Iteration 135, loss = 0.25954976\n",
      "Iteration 136, loss = 0.25659964\n",
      "Iteration 137, loss = 0.25714145\n",
      "Iteration 138, loss = 0.25665158\n",
      "Iteration 139, loss = 0.25571506\n",
      "Iteration 140, loss = 0.25594905\n",
      "Iteration 141, loss = 0.25725157\n",
      "Iteration 142, loss = 0.25649826\n",
      "Iteration 143, loss = 0.25753583\n",
      "Iteration 144, loss = 0.25796349\n",
      "Training loss did not improve more than tol=0.000100 for 10 consecutive epochs. Stopping.\n"
     ]
    }
   ],
   "source": [
    "from sklearn.neural_network import MLPClassifier\n",
    "\n",
    "#######################\n",
    "\n",
    "mlp = MLPClassifier(hidden_layer_sizes=(20,), alpha=0.1, verbose=True, random_state=1)\n",
    "\n",
    "mlp.fit(X_train_transformed, y_train)\n",
    "\n",
    "y_train_pred = mlp.predict(X_train_transformed)\n",
    "y_test_pred = mlp.predict(X_test_transformed)\n"
   ]
  },
  {
   "cell_type": "code",
   "execution_count": 137,
   "metadata": {},
   "outputs": [
    {
     "name": "stdout",
     "output_type": "stream",
     "text": [
      "0.9264107142857143\n",
      "0.8697857142857143\n"
     ]
    }
   ],
   "source": [
    "from sklearn.metrics import accuracy_score\n",
    "\n",
    "#######################\n",
    "# Your accuracy score code here\n",
    "\n",
    "print(accuracy_score(y_train, y_train_pred))\n",
    "print(accuracy_score(y_test, y_test_pred))\n"
   ]
  },
  {
   "cell_type": "markdown",
   "metadata": {
    "deletable": false,
    "editable": false,
    "tags": []
   },
   "source": [
    "#### Questions: (answer here)\n",
    "\n",
    "1. What is the size of the input layer here? Explain\n",
    "2. What is the size of the output layer here? Explain\n",
    "3. How many weights in total does the algorithm learn?\n",
    "4. What does it mean that the training accuracy and the test accuracy are different?"
   ]
  },
  {
   "cell_type": "markdown",
   "metadata": {
    "deletable": false,
    "editable": false,
    "tags": []
   },
   "source": [
    "<font color='red'>Enter your text here</font>"
   ]
  },
  {
   "cell_type": "markdown",
   "metadata": {},
   "source": [
    "1. The size of the input layer corresponds to the number of features in the dataset. In this case, the dataset has 20 features (from make_classification), so the size of the input layer is 20.\n",
    "\n",
    "2. The size of the output layer corresponds to the number of classes in the classification problem, so here there are 10 output layers.\n",
    "\n",
    "3. Input-hidden weights=20×20=400\n",
    "\n",
    "4. When the training accuracy and test accuracy differ, it highlights the generalization ability of the model = the extent to which the model can perform well on unseen data (test set) compared to the data it was trained on (training set). "
   ]
  },
  {
   "cell_type": "markdown",
   "metadata": {
    "deletable": false,
    "editable": false,
    "tags": []
   },
   "source": [
    "#### Wider, wider, wider\n",
    "\n",
    "Let's go wider. We have quite a lot of input features, and somehow it might seem that if we immediately connect this to a layer with only 20 neurons that something might be lost?\n",
    "\n",
    "Let's see if more features help!\n",
    "\n",
    "Iterate over a wider number of neurons, and plot the train accuracy and test accuracy as a graph. For example, iterate over a set of widths of `(20, 50, 100, 200)`, or something similar.\n",
    "\n",
    "Same as before, set `alpha=0.001` and set `random_state` to some constant (e.g. `random_state=42`)"
   ]
  },
  {
   "cell_type": "markdown",
   "metadata": {
    "deletable": false,
    "editable": false,
    "tags": []
   },
   "source": [
    "<font color='red'>Enter your code here</font>"
   ]
  },
  {
   "cell_type": "code",
   "execution_count": null,
   "metadata": {
    "colab": {
     "base_uri": "https://localhost:8080/"
    },
    "id": "oNSoWZ8m4W3l",
    "outputId": "cc952871-ae0f-48fa-b9b6-fa0f5d42be7e",
    "scrolled": true,
    "tags": []
   },
   "outputs": [
    {
     "name": "stderr",
     "output_type": "stream",
     "text": [
      "c:\\Users\\jules\\AppData\\Local\\Programs\\Python\\Python312\\Lib\\site-packages\\sklearn\\neural_network\\_multilayer_perceptron.py:690: ConvergenceWarning: Stochastic Optimizer: Maximum iterations (200) reached and the optimization hasn't converged yet.\n",
      "  warnings.warn(\n"
     ]
    },
    {
     "data": {
      "image/png": "[encoded data removed]",
      "text/plain": [
       "<Figure size 800x500 with 1 Axes>"
      ]
     },
     "metadata": {},
     "output_type": "display_data"
    }
   ],
   "source": [
    "from sklearn.metrics import accuracy_score\n",
    "from sklearn.neural_network import MLPClassifier\n",
    "\n",
    "########################\n",
    "# Your classifier training code here\n",
    "\n",
    "a_test = []\n",
    "a_train = []\n",
    "\n",
    "widths = (20, 50, 100, 200)\n",
    "\n",
    "for width in widths:\n",
    "    mlp = MLPClassifier(hidden_layer_sizes=(width,), alpha=0.001, random_state=42, max_iter=200, verbose=False)\n",
    "    \n",
    "    mlp.fit(X_train_transformed, y_train)\n",
    "    \n",
    "    y_train_pred = mlp.predict(X_train_transformed)\n",
    "    y_test_pred = mlp.predict(X_test_transformed)\n",
    "    \n",
    "    train_accuracy = accuracy_score(y_train, y_train_pred)\n",
    "    test_accuracy = accuracy_score(y_test, y_test_pred)\n",
    "    \n",
    "    a_train.append(train_accuracy)\n",
    "    a_test.append(test_accuracy)\n",
    "\n",
    "# Plot the results\n",
    "plt.figure()\n",
    "plt.plot(widths, a_train, label='Train Accuracy', marker='o')\n",
    "plt.plot(widths, a_test, label='Test Accuracy', marker='o')\n",
    "plt.xlabel('Hidden Layer Width')\n",
    "plt.ylabel('Accuracy')\n",
    "plt.title('Effect of Hidden Layer Width on Accuracy')\n",
    "plt.show()\n",
    "\n"
   ]
  },
  {
   "cell_type": "markdown",
   "metadata": {
    "deletable": false,
    "editable": false,
    "tags": []
   },
   "source": [
    "Questions:\n",
    "\n",
    "1. When you trained for all the different widths, did you notice anything about how long each training took? Discuss this.\n",
    "\n",
    "2. What can you infer from the graph?\n",
    "\n",
    "For the second question, think about the following:\n",
    "* For the number of neurons you have tested, what is the best? (Highest performance -vs- lowest number of neurons)\n",
    "* How many weights are learned by the algorithm for our optimal solution?\n",
    "* Is there any evidence of overfitting occuring? Discuss this. What could we do to reduce this, if it is evident? (No need to implement anything to address tyhe overfitting, just comment)\n",
    "(Hint: a large divergence between training accuracy and testing accuracy can indicate over-fitting).\n",
    "\n",
    "<font color='red'>Enter your text here</font>"
   ]
  },
  {
   "cell_type": "markdown",
   "metadata": {},
   "source": [
    "1. With the width increasing, the amount of parameters increases a lot, the model has to compute more and more parameters and this is what takes a lot a time (18 minutes).\n",
    "\n",
    "2. It is clear that the wider Hidden Layer, the more accurate the model is. But it takes a lot of time to run !"
   ]
  },
  {
   "cell_type": "markdown",
   "metadata": {
    "deletable": false,
    "editable": false,
    "tags": []
   },
   "source": [
    "## Task 3: The deeper the better!\n",
    "\n",
    "Previously, we only had a single hidden layer, and we went as wide as a couple of hundred neurons. That is a lot of neurons and a lot of computation. Can we do better with fewer neurons by going deeper and using more layers? Now we're going to start playing with different configurations.\n",
    "\n",
    "Rerun the above loop, but let's use a set of deeper networks. These are going to be simply designed. I suggest to use something like:\n",
    "`layers = ((20,20),(20,20,20),(50,20),(100,100,50))`\n",
    "\n",
    "Plot the train and test accuracy as a graph.\n",
    "\n",
    "Same as before, set `alpha=0.001` and set `random_state` to some constant (e.g. `random_state=42`)\n",
    "\n",
    "**Note**: you might be feeling at this point that picking the neural network architecture is kind of random. At the moment, it is, to be honest. How many neurons per layer should I use? How many layers? And then I have to pick the training parameters on top of this?? These are all called hyperparameters of the network, and there is a lot of skill to develop to develop to be able to design networks efficiently and pick the right training parameters."
   ]
  },
  {
   "cell_type": "markdown",
   "metadata": {
    "deletable": false,
    "editable": false,
    "tags": []
   },
   "source": [
    "<font color='red'>Enter your code here</font>"
   ]
  },
  {
   "cell_type": "code",
   "execution_count": 151,
   "metadata": {
    "colab": {
     "base_uri": "https://localhost:8080/"
    },
    "id": "qCBMWj2-44dT",
    "outputId": "c48a57a9-abd0-4e50-b13e-16eb04bb77d8",
    "scrolled": true,
    "tags": []
   },
   "outputs": [
    {
     "name": "stderr",
     "output_type": "stream",
     "text": [
      "c:\\Users\\jules\\AppData\\Local\\Programs\\Python\\Python312\\Lib\\site-packages\\sklearn\\neural_network\\_multilayer_perceptron.py:690: ConvergenceWarning: Stochastic Optimizer: Maximum iterations (200) reached and the optimization hasn't converged yet.\n",
      "  warnings.warn(\n"
     ]
    },
    {
     "data": {
      "image/png": "[encoded data removed]",
      "text/plain": [
       "<Figure size 640x480 with 1 Axes>"
      ]
     },
     "metadata": {},
     "output_type": "display_data"
    }
   ],
   "source": [
    "########################\n",
    "# Your classifier training code here\n",
    "\n",
    "layers = ((20,20),(20,20,20),(50,20),(100,100,50))\n",
    "\n",
    "a_test = []\n",
    "a_train = []\n",
    "\n",
    "for layer in layers:\n",
    "    mlp = MLPClassifier(hidden_layer_sizes=layer, alpha=0.001, random_state=42, max_iter=200, verbose=False)\n",
    "    \n",
    "    mlp.fit(X_train_transformed, y_train)\n",
    "    \n",
    "    y_train_pred = mlp.predict(X_train_transformed)\n",
    "    y_test_pred = mlp.predict(X_test_transformed)\n",
    "    \n",
    "    train_accuracy = accuracy_score(y_train, y_train_pred)\n",
    "    test_accuracy = accuracy_score(y_test, y_test_pred)\n",
    "    \n",
    "    a_train.append(train_accuracy)\n",
    "    a_test.append(test_accuracy)\n",
    "\n",
    "# Plot the results\n",
    "plt.figure()\n",
    "plt.plot(widths, a_train, label='Train Accuracy', marker='o')\n",
    "plt.plot(widths, a_test, label='Test Accuracy', marker='o')\n",
    "plt.xlabel('Hidden Layer Width')\n",
    "plt.ylabel('Accuracy')\n",
    "plt.title('Effect of Hidden Layer Width on Accuracy')\n",
    "plt.show()\n"
   ]
  },
  {
   "cell_type": "markdown",
   "metadata": {
    "deletable": false,
    "editable": false,
    "tags": []
   },
   "source": [
    "#### Questions\n",
    "\n",
    "What can you infer from the graph? (answer in the text box here).\n",
    "\n",
    "Think about the following:\n",
    "* Do I have a deeper network that has fewer neurons but is doing better than my very wide network?\n",
    "* How many weights did I need to train?\n",
    "\n",
    "<font color='red'>Enter your text here</font>"
   ]
  },
  {
   "cell_type": "markdown",
   "metadata": {},
   "source": [
    "The accuracy of the model clearly improves with the Hidden Layer Width."
   ]
  },
  {
   "cell_type": "markdown",
   "metadata": {
    "deletable": false,
    "editable": false,
    "tags": []
   },
   "source": [
    "## Task 4: Confusion matrix\n",
    "\n",
    "A [confusion matrix](https://scikit-learn.org/stable/modules/generated/sklearn.metrics.plot_confusion_matrix.html#sklearn.metrics.plot_confusion_matrix) is a powerful way to visualise errors in your trained network. Plot a confusion matrix for your best model above (of course, plot using the test data).\n",
    "\n",
    "Describe what you see in the confusion matrix.\n",
    "\n",
    "<font color='red'>Enter your code here</font>"
   ]
  },
  {
   "cell_type": "code",
   "execution_count": 154,
   "metadata": {
    "colab": {
     "base_uri": "https://localhost:8080/",
     "height": 279
    },
    "id": "ckK_cEOVO1lZ",
    "outputId": "ef814726-6ea8-4821-e047-742d85c172cb"
   },
   "outputs": [
    {
     "name": "stdout",
     "output_type": "stream",
     "text": [
      "[[1195    2   24   32    5    1  127    0    8    0]\n",
      " [   8 1376    0    9    3    1    2    0    3    0]\n",
      " [  23    1 1180   12   95    2   87    0    7    0]\n",
      " [  41   12   19 1275   52    0   47    0    3    0]\n",
      " [   5    3  143   29 1083    0   88    0    6    0]\n",
      " [   1    0    0    2    0 1415    0   18    4    9]\n",
      " [ 166    4  109   34   76    0 1009    0    9    0]\n",
      " [   1    0    0    0    0   43    0 1277    2   36]\n",
      " [   5    2    7    5    4   10    8    3 1297    1]\n",
      " [   0    0    0    0    0   29    0   47    2 1356]]\n"
     ]
    }
   ],
   "source": [
    "########################\n",
    "# Your code here\n",
    "\n",
    "\n",
    "from sklearn.metrics import confusion_matrix\n",
    "\n",
    "print(confusion_matrix(y_test, y_test_pred))\n"
   ]
  },
  {
   "cell_type": "markdown",
   "metadata": {
    "id": "Kcb3ollCQDTG"
   },
   "source": [
    "<font color='red'>Enter your text here</font>"
   ]
  },
  {
   "cell_type": "markdown",
   "metadata": {},
   "source": [
    "The confusion matrix shows strong overall performance, with most predictions along the diagonal, indicating correct classifications. However, there are some misclassifications, such as class 6 frequently being predicted as class 0 (166 times) and class 2 confused with class 4 (95 times). Classes like 1, 5, 7, and 9 are well-classified with few errors. Improving feature separation for confused pairs like class 2 vs. 4 and class 6 vs. 0 could significantly enhance accuracy."
   ]
  }
 ],
 "metadata": {
  "colab": {
   "collapsed_sections": [],
   "name": "E-tivity7_ExampleSolution.ipynb",
   "provenance": [],
   "toc_visible": true
  },
  "kernelspec": {
   "display_name": "Python 3",
   "language": "python",
   "name": "python3"
  },
  "language_info": {
   "codemirror_mode": {
    "name": "ipython",
    "version": 3
   },
   "file_extension": ".py",
   "mimetype": "text/x-python",
   "name": "python",
   "nbconvert_exporter": "python",
   "pygments_lexer": "ipython3",
   "version": "3.12.6"
  }
 },
 "nbformat": 4,
 "nbformat_minor": 4
}
